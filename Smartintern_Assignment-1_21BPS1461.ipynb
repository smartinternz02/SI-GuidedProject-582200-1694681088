{
 "cells": [
  {
   "cell_type": "markdown",
   "id": "5e6350c8",
   "metadata": {},
   "source": [
    "## Assignment - 1\n",
    "## Name: G.Dheekshith Kumar \n",
    "## Reg No:21BPS1461\n",
    "## Campus : Vit Chennai"
   ]
  },
  {
   "cell_type": "markdown",
   "id": "5d27ba2a",
   "metadata": {},
   "source": [
    "### Task - 1 "
   ]
  },
  {
   "cell_type": "code",
   "execution_count": 13,
   "id": "ef160049",
   "metadata": {},
   "outputs": [],
   "source": [
    "import pandas as pd\n",
    "import numpy as np"
   ]
  },
  {
   "cell_type": "code",
   "execution_count": 14,
   "id": "756649f5",
   "metadata": {},
   "outputs": [
    {
     "data": {
      "text/plain": [
       "{'Cars': ['i10', 'i20', 'Creta', 'Venue'],\n",
       " 'Lanch Year': ['2011', '2011', '2015', '2019'],\n",
       " 'Price': ['8.51', '11.88', '19.20', nan],\n",
       " 'Tyre': ['Bridge Stone', 'MRF', 'MRF', 'Bridge Stone']}"
      ]
     },
     "execution_count": 14,
     "metadata": {},
     "output_type": "execute_result"
    }
   ],
   "source": [
    "d = {'Cars':['i10','i20','Creta','Venue'],'Lanch Year':['2011','2011','2015','2019'],'Price':['8.51','11.88','19.20',np.nan],'Tyre':['Bridge Stone','MRF','MRF','Bridge Stone']}\n",
    "d"
   ]
  },
  {
   "cell_type": "code",
   "execution_count": 15,
   "id": "db72dd82",
   "metadata": {},
   "outputs": [
    {
     "data": {
      "text/html": [
       "<div>\n",
       "<style scoped>\n",
       "    .dataframe tbody tr th:only-of-type {\n",
       "        vertical-align: middle;\n",
       "    }\n",
       "\n",
       "    .dataframe tbody tr th {\n",
       "        vertical-align: top;\n",
       "    }\n",
       "\n",
       "    .dataframe thead th {\n",
       "        text-align: right;\n",
       "    }\n",
       "</style>\n",
       "<table border=\"1\" class=\"dataframe\">\n",
       "  <thead>\n",
       "    <tr style=\"text-align: right;\">\n",
       "      <th></th>\n",
       "      <th>Cars</th>\n",
       "      <th>Lanch Year</th>\n",
       "      <th>Price</th>\n",
       "      <th>Tyre</th>\n",
       "    </tr>\n",
       "  </thead>\n",
       "  <tbody>\n",
       "    <tr>\n",
       "      <th>0</th>\n",
       "      <td>i10</td>\n",
       "      <td>2011</td>\n",
       "      <td>8.51</td>\n",
       "      <td>Bridge Stone</td>\n",
       "    </tr>\n",
       "    <tr>\n",
       "      <th>1</th>\n",
       "      <td>i20</td>\n",
       "      <td>2011</td>\n",
       "      <td>11.88</td>\n",
       "      <td>MRF</td>\n",
       "    </tr>\n",
       "    <tr>\n",
       "      <th>2</th>\n",
       "      <td>Creta</td>\n",
       "      <td>2015</td>\n",
       "      <td>19.20</td>\n",
       "      <td>MRF</td>\n",
       "    </tr>\n",
       "    <tr>\n",
       "      <th>3</th>\n",
       "      <td>Venue</td>\n",
       "      <td>2019</td>\n",
       "      <td>NaN</td>\n",
       "      <td>Bridge Stone</td>\n",
       "    </tr>\n",
       "  </tbody>\n",
       "</table>\n",
       "</div>"
      ],
      "text/plain": [
       "    Cars Lanch Year  Price          Tyre\n",
       "0    i10       2011   8.51  Bridge Stone\n",
       "1    i20       2011  11.88           MRF\n",
       "2  Creta       2015  19.20           MRF\n",
       "3  Venue       2019    NaN  Bridge Stone"
      ]
     },
     "execution_count": 15,
     "metadata": {},
     "output_type": "execute_result"
    }
   ],
   "source": [
    "df = pd.DataFrame(d)\n",
    "df"
   ]
  },
  {
   "cell_type": "code",
   "execution_count": 16,
   "id": "2f2ddd96",
   "metadata": {},
   "outputs": [
    {
     "data": {
      "text/plain": [
       "(4, 4)"
      ]
     },
     "execution_count": 16,
     "metadata": {},
     "output_type": "execute_result"
    }
   ],
   "source": [
    "df.shape #observation and features"
   ]
  },
  {
   "cell_type": "markdown",
   "id": "1598e6a2",
   "metadata": {},
   "source": [
    "### Task - 2"
   ]
  },
  {
   "cell_type": "code",
   "execution_count": 17,
   "id": "90fd3ec2",
   "metadata": {},
   "outputs": [],
   "source": [
    "df.rename(columns = {'Cars':'Random value 1', 'Lanch Year':'Random value 2',\n",
    "                              'Price':'Random value 3','Tyre':'Random value 4'}, inplace = True)"
   ]
  },
  {
   "cell_type": "code",
   "execution_count": 18,
   "id": "7364d6e8",
   "metadata": {},
   "outputs": [
    {
     "data": {
      "text/html": [
       "<div>\n",
       "<style scoped>\n",
       "    .dataframe tbody tr th:only-of-type {\n",
       "        vertical-align: middle;\n",
       "    }\n",
       "\n",
       "    .dataframe tbody tr th {\n",
       "        vertical-align: top;\n",
       "    }\n",
       "\n",
       "    .dataframe thead th {\n",
       "        text-align: right;\n",
       "    }\n",
       "</style>\n",
       "<table border=\"1\" class=\"dataframe\">\n",
       "  <thead>\n",
       "    <tr style=\"text-align: right;\">\n",
       "      <th></th>\n",
       "      <th>Random value 1</th>\n",
       "      <th>Random value 2</th>\n",
       "      <th>Random value 3</th>\n",
       "      <th>Random value 4</th>\n",
       "    </tr>\n",
       "  </thead>\n",
       "  <tbody>\n",
       "    <tr>\n",
       "      <th>0</th>\n",
       "      <td>i10</td>\n",
       "      <td>2011</td>\n",
       "      <td>8.51</td>\n",
       "      <td>Bridge Stone</td>\n",
       "    </tr>\n",
       "    <tr>\n",
       "      <th>1</th>\n",
       "      <td>i20</td>\n",
       "      <td>2011</td>\n",
       "      <td>11.88</td>\n",
       "      <td>MRF</td>\n",
       "    </tr>\n",
       "    <tr>\n",
       "      <th>2</th>\n",
       "      <td>Creta</td>\n",
       "      <td>2015</td>\n",
       "      <td>19.20</td>\n",
       "      <td>MRF</td>\n",
       "    </tr>\n",
       "    <tr>\n",
       "      <th>3</th>\n",
       "      <td>Venue</td>\n",
       "      <td>2019</td>\n",
       "      <td>NaN</td>\n",
       "      <td>Bridge Stone</td>\n",
       "    </tr>\n",
       "  </tbody>\n",
       "</table>\n",
       "</div>"
      ],
      "text/plain": [
       "  Random value 1 Random value 2 Random value 3 Random value 4\n",
       "0            i10           2011           8.51   Bridge Stone\n",
       "1            i20           2011          11.88            MRF\n",
       "2          Creta           2015          19.20            MRF\n",
       "3          Venue           2019            NaN   Bridge Stone"
      ]
     },
     "execution_count": 18,
     "metadata": {},
     "output_type": "execute_result"
    }
   ],
   "source": [
    "df"
   ]
  },
  {
   "cell_type": "markdown",
   "id": "8b668732",
   "metadata": {},
   "source": [
    "### Task - 3"
   ]
  },
  {
   "cell_type": "code",
   "execution_count": 19,
   "id": "192110d6",
   "metadata": {},
   "outputs": [
    {
     "data": {
      "text/html": [
       "<div>\n",
       "<style scoped>\n",
       "    .dataframe tbody tr th:only-of-type {\n",
       "        vertical-align: middle;\n",
       "    }\n",
       "\n",
       "    .dataframe tbody tr th {\n",
       "        vertical-align: top;\n",
       "    }\n",
       "\n",
       "    .dataframe thead th {\n",
       "        text-align: right;\n",
       "    }\n",
       "</style>\n",
       "<table border=\"1\" class=\"dataframe\">\n",
       "  <thead>\n",
       "    <tr style=\"text-align: right;\">\n",
       "      <th></th>\n",
       "      <th>Random value 1</th>\n",
       "      <th>Random value 2</th>\n",
       "      <th>Random value 3</th>\n",
       "      <th>Random value 4</th>\n",
       "    </tr>\n",
       "  </thead>\n",
       "  <tbody>\n",
       "    <tr>\n",
       "      <th>count</th>\n",
       "      <td>4</td>\n",
       "      <td>4</td>\n",
       "      <td>3</td>\n",
       "      <td>4</td>\n",
       "    </tr>\n",
       "    <tr>\n",
       "      <th>unique</th>\n",
       "      <td>4</td>\n",
       "      <td>3</td>\n",
       "      <td>3</td>\n",
       "      <td>2</td>\n",
       "    </tr>\n",
       "    <tr>\n",
       "      <th>top</th>\n",
       "      <td>i10</td>\n",
       "      <td>2011</td>\n",
       "      <td>8.51</td>\n",
       "      <td>Bridge Stone</td>\n",
       "    </tr>\n",
       "    <tr>\n",
       "      <th>freq</th>\n",
       "      <td>1</td>\n",
       "      <td>2</td>\n",
       "      <td>1</td>\n",
       "      <td>2</td>\n",
       "    </tr>\n",
       "  </tbody>\n",
       "</table>\n",
       "</div>"
      ],
      "text/plain": [
       "       Random value 1 Random value 2 Random value 3 Random value 4\n",
       "count               4              4              3              4\n",
       "unique              4              3              3              2\n",
       "top               i10           2011           8.51   Bridge Stone\n",
       "freq                1              2              1              2"
      ]
     },
     "execution_count": 19,
     "metadata": {},
     "output_type": "execute_result"
    }
   ],
   "source": [
    "df.describe()"
   ]
  },
  {
   "cell_type": "markdown",
   "id": "fee3e9dc",
   "metadata": {},
   "source": [
    "### Task - 4"
   ]
  },
  {
   "cell_type": "code",
   "execution_count": 20,
   "id": "e154087d",
   "metadata": {},
   "outputs": [
    {
     "data": {
      "text/plain": [
       "Random value 1    False\n",
       "Random value 2    False\n",
       "Random value 3     True\n",
       "Random value 4    False\n",
       "dtype: bool"
      ]
     },
     "execution_count": 20,
     "metadata": {},
     "output_type": "execute_result"
    }
   ],
   "source": [
    "df.isnull().any()"
   ]
  },
  {
   "cell_type": "markdown",
   "id": "301c5606",
   "metadata": {},
   "source": [
    "### Task - 5"
   ]
  },
  {
   "cell_type": "code",
   "execution_count": 21,
   "id": "2db9da1f",
   "metadata": {},
   "outputs": [
    {
     "data": {
      "text/plain": [
       "0    2011\n",
       "1    2011\n",
       "2    2015\n",
       "3    2019\n",
       "Name: Random value 2, dtype: object"
      ]
     },
     "execution_count": 21,
     "metadata": {},
     "output_type": "execute_result"
    }
   ],
   "source": [
    "df.loc[0:,'Random value 2']"
   ]
  },
  {
   "cell_type": "code",
   "execution_count": 22,
   "id": "3d9488ce",
   "metadata": {},
   "outputs": [
    {
     "data": {
      "text/plain": [
       "0    2011\n",
       "1    2011\n",
       "2    2015\n",
       "3    2019\n",
       "Name: Random value 2, dtype: object"
      ]
     },
     "execution_count": 22,
     "metadata": {},
     "output_type": "execute_result"
    }
   ],
   "source": [
    "df.iloc[0:,1]"
   ]
  },
  {
   "cell_type": "code",
   "execution_count": 23,
   "id": "6dcd4931",
   "metadata": {},
   "outputs": [
    {
     "data": {
      "text/plain": [
       "0     8.51\n",
       "1    11.88\n",
       "2    19.20\n",
       "3      NaN\n",
       "Name: Random value 3, dtype: object"
      ]
     },
     "execution_count": 23,
     "metadata": {},
     "output_type": "execute_result"
    }
   ],
   "source": [
    "df.loc[0:,'Random value 3']"
   ]
  },
  {
   "cell_type": "code",
   "execution_count": 24,
   "id": "937cd7f0",
   "metadata": {},
   "outputs": [
    {
     "data": {
      "text/plain": [
       "0     8.51\n",
       "1    11.88\n",
       "2    19.20\n",
       "3      NaN\n",
       "Name: Random value 3, dtype: object"
      ]
     },
     "execution_count": 24,
     "metadata": {},
     "output_type": "execute_result"
    }
   ],
   "source": [
    "df.iloc[0:,2]"
   ]
  },
  {
   "cell_type": "code",
   "execution_count": null,
   "id": "9cb2fe92",
   "metadata": {},
   "outputs": [],
   "source": []
  },
  {
   "cell_type": "code",
   "execution_count": null,
   "id": "1dc32505",
   "metadata": {},
   "outputs": [],
   "source": []
  },
  {
   "cell_type": "code",
   "execution_count": null,
   "id": "ea182db9",
   "metadata": {},
   "outputs": [],
   "source": []
  }
 ],
 "metadata": {
  "kernelspec": {
   "display_name": "Python 3 (ipykernel)",
   "language": "python",
   "name": "python3"
  },
  "language_info": {
   "codemirror_mode": {
    "name": "ipython",
    "version": 3
   },
   "file_extension": ".py",
   "mimetype": "text/x-python",
   "name": "python",
   "nbconvert_exporter": "python",
   "pygments_lexer": "ipython3",
   "version": "3.11.4"
  }
 },
 "nbformat": 4,
 "nbformat_minor": 5
}
