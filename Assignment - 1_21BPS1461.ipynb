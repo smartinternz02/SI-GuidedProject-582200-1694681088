{
 "cells": [
  {
   "cell_type": "markdown",
   "id": "b16409e8",
   "metadata": {},
   "source": [
    "### Assignment-1 \n",
    "### Name:G.Dheekshith Kumar \n",
    "### Reg No:21BPS1461\n",
    "### Campus:VIT Chennai"
   ]
  },
  {
   "cell_type": "markdown",
   "id": "71a45f45",
   "metadata": {},
   "source": [
    "### Task-1"
   ]
  },
  {
   "cell_type": "code",
   "execution_count": 1,
   "id": "9544f1da",
   "metadata": {},
   "outputs": [],
   "source": [
    "import pandas as pd\n",
    "import numpy as np"
   ]
  },
  {
   "cell_type": "code",
   "execution_count": 2,
   "id": "807762dc",
   "metadata": {},
   "outputs": [],
   "source": [
    "d = {'Cars':['i10','i20','Creta','Venue','Verna','Aura','Xcent','Alcazar','Kona','Ionicq 5'],'Lanch Year':['2011','2011','2015','2019','2012','2020','2014','2021','2017','2023'],'Price':['8.51','11.88','19.20','13.48','12','8.90','7.80','21.24','23.84','45.95'],'Fuel Tank':['Petrol','Diesel','Diesel','Diesel','Diesel','Petrol','Petrol','Diesel','Electric','Electric'],'Tyre':['Bridge Stone','MRF','MRF','Bridge Stone','Ceat','MRF','JK','Ceat','MRF',np.nan]}"
   ]
  },
  {
   "cell_type": "code",
   "execution_count": 3,
   "id": "9ad131f7",
   "metadata": {},
   "outputs": [
    {
     "data": {
      "text/plain": [
       "{'Cars': ['i10',\n",
       "  'i20',\n",
       "  'Creta',\n",
       "  'Venue',\n",
       "  'Verna',\n",
       "  'Aura',\n",
       "  'Xcent',\n",
       "  'Alcazar',\n",
       "  'Kona',\n",
       "  'Ionicq 5'],\n",
       " 'Lanch Year': ['2011',\n",
       "  '2011',\n",
       "  '2015',\n",
       "  '2019',\n",
       "  '2012',\n",
       "  '2020',\n",
       "  '2014',\n",
       "  '2021',\n",
       "  '2017',\n",
       "  '2023'],\n",
       " 'Price': ['8.51',\n",
       "  '11.88',\n",
       "  '19.20',\n",
       "  '13.48',\n",
       "  '12',\n",
       "  '8.90',\n",
       "  '7.80',\n",
       "  '21.24',\n",
       "  '23.84',\n",
       "  '45.95'],\n",
       " 'Fuel Tank': ['Petrol',\n",
       "  'Diesel',\n",
       "  'Diesel',\n",
       "  'Diesel',\n",
       "  'Diesel',\n",
       "  'Petrol',\n",
       "  'Petrol',\n",
       "  'Diesel',\n",
       "  'Electric',\n",
       "  'Electric'],\n",
       " 'Tyre': ['Bridge Stone',\n",
       "  'MRF',\n",
       "  'MRF',\n",
       "  'Bridge Stone',\n",
       "  'Ceat',\n",
       "  'MRF',\n",
       "  'JK',\n",
       "  'Ceat',\n",
       "  'MRF',\n",
       "  nan]}"
      ]
     },
     "execution_count": 3,
     "metadata": {},
     "output_type": "execute_result"
    }
   ],
   "source": [
    "d"
   ]
  },
  {
   "cell_type": "code",
   "execution_count": 4,
   "id": "1a0dd7cd",
   "metadata": {},
   "outputs": [
    {
     "data": {
      "text/html": [
       "<div>\n",
       "<style scoped>\n",
       "    .dataframe tbody tr th:only-of-type {\n",
       "        vertical-align: middle;\n",
       "    }\n",
       "\n",
       "    .dataframe tbody tr th {\n",
       "        vertical-align: top;\n",
       "    }\n",
       "\n",
       "    .dataframe thead th {\n",
       "        text-align: right;\n",
       "    }\n",
       "</style>\n",
       "<table border=\"1\" class=\"dataframe\">\n",
       "  <thead>\n",
       "    <tr style=\"text-align: right;\">\n",
       "      <th></th>\n",
       "      <th>Cars</th>\n",
       "      <th>Lanch Year</th>\n",
       "      <th>Price</th>\n",
       "      <th>Fuel Tank</th>\n",
       "      <th>Tyre</th>\n",
       "    </tr>\n",
       "  </thead>\n",
       "  <tbody>\n",
       "    <tr>\n",
       "      <th>0</th>\n",
       "      <td>i10</td>\n",
       "      <td>2011</td>\n",
       "      <td>8.51</td>\n",
       "      <td>Petrol</td>\n",
       "      <td>Bridge Stone</td>\n",
       "    </tr>\n",
       "    <tr>\n",
       "      <th>1</th>\n",
       "      <td>i20</td>\n",
       "      <td>2011</td>\n",
       "      <td>11.88</td>\n",
       "      <td>Diesel</td>\n",
       "      <td>MRF</td>\n",
       "    </tr>\n",
       "    <tr>\n",
       "      <th>2</th>\n",
       "      <td>Creta</td>\n",
       "      <td>2015</td>\n",
       "      <td>19.20</td>\n",
       "      <td>Diesel</td>\n",
       "      <td>MRF</td>\n",
       "    </tr>\n",
       "    <tr>\n",
       "      <th>3</th>\n",
       "      <td>Venue</td>\n",
       "      <td>2019</td>\n",
       "      <td>13.48</td>\n",
       "      <td>Diesel</td>\n",
       "      <td>Bridge Stone</td>\n",
       "    </tr>\n",
       "    <tr>\n",
       "      <th>4</th>\n",
       "      <td>Verna</td>\n",
       "      <td>2012</td>\n",
       "      <td>12</td>\n",
       "      <td>Diesel</td>\n",
       "      <td>Ceat</td>\n",
       "    </tr>\n",
       "    <tr>\n",
       "      <th>5</th>\n",
       "      <td>Aura</td>\n",
       "      <td>2020</td>\n",
       "      <td>8.90</td>\n",
       "      <td>Petrol</td>\n",
       "      <td>MRF</td>\n",
       "    </tr>\n",
       "    <tr>\n",
       "      <th>6</th>\n",
       "      <td>Xcent</td>\n",
       "      <td>2014</td>\n",
       "      <td>7.80</td>\n",
       "      <td>Petrol</td>\n",
       "      <td>JK</td>\n",
       "    </tr>\n",
       "    <tr>\n",
       "      <th>7</th>\n",
       "      <td>Alcazar</td>\n",
       "      <td>2021</td>\n",
       "      <td>21.24</td>\n",
       "      <td>Diesel</td>\n",
       "      <td>Ceat</td>\n",
       "    </tr>\n",
       "    <tr>\n",
       "      <th>8</th>\n",
       "      <td>Kona</td>\n",
       "      <td>2017</td>\n",
       "      <td>23.84</td>\n",
       "      <td>Electric</td>\n",
       "      <td>MRF</td>\n",
       "    </tr>\n",
       "    <tr>\n",
       "      <th>9</th>\n",
       "      <td>Ionicq 5</td>\n",
       "      <td>2023</td>\n",
       "      <td>45.95</td>\n",
       "      <td>Electric</td>\n",
       "      <td>NaN</td>\n",
       "    </tr>\n",
       "  </tbody>\n",
       "</table>\n",
       "</div>"
      ],
      "text/plain": [
       "       Cars Lanch Year  Price Fuel Tank          Tyre\n",
       "0       i10       2011   8.51    Petrol  Bridge Stone\n",
       "1       i20       2011  11.88    Diesel           MRF\n",
       "2     Creta       2015  19.20    Diesel           MRF\n",
       "3     Venue       2019  13.48    Diesel  Bridge Stone\n",
       "4     Verna       2012     12    Diesel          Ceat\n",
       "5      Aura       2020   8.90    Petrol           MRF\n",
       "6     Xcent       2014   7.80    Petrol            JK\n",
       "7   Alcazar       2021  21.24    Diesel          Ceat\n",
       "8      Kona       2017  23.84  Electric           MRF\n",
       "9  Ionicq 5       2023  45.95  Electric           NaN"
      ]
     },
     "execution_count": 4,
     "metadata": {},
     "output_type": "execute_result"
    }
   ],
   "source": [
    "df = pd.DataFrame(d)\n",
    "df"
   ]
  },
  {
   "cell_type": "code",
   "execution_count": 5,
   "id": "afe88981",
   "metadata": {},
   "outputs": [
    {
     "data": {
      "text/plain": [
       "(10, 5)"
      ]
     },
     "execution_count": 5,
     "metadata": {},
     "output_type": "execute_result"
    }
   ],
   "source": [
    "df.shape"
   ]
  },
  {
   "cell_type": "markdown",
   "id": "84ccacd3",
   "metadata": {},
   "source": [
    "### Task-2"
   ]
  },
  {
   "cell_type": "code",
   "execution_count": 6,
   "id": "6c243758",
   "metadata": {},
   "outputs": [
    {
     "name": "stdout",
     "output_type": "stream",
     "text": [
      "<class 'pandas.core.frame.DataFrame'>\n",
      "RangeIndex: 10 entries, 0 to 9\n",
      "Data columns (total 5 columns):\n",
      " #   Column      Non-Null Count  Dtype \n",
      "---  ------      --------------  ----- \n",
      " 0   Cars        10 non-null     object\n",
      " 1   Lanch Year  10 non-null     object\n",
      " 2   Price       10 non-null     object\n",
      " 3   Fuel Tank   10 non-null     object\n",
      " 4   Tyre        9 non-null      object\n",
      "dtypes: object(5)\n",
      "memory usage: 532.0+ bytes\n"
     ]
    }
   ],
   "source": [
    "df.info()"
   ]
  },
  {
   "cell_type": "markdown",
   "id": "e093eaa4",
   "metadata": {},
   "source": [
    "### Task-3"
   ]
  },
  {
   "cell_type": "code",
   "execution_count": 7,
   "id": "8b3d342e",
   "metadata": {},
   "outputs": [
    {
     "data": {
      "text/html": [
       "<div>\n",
       "<style scoped>\n",
       "    .dataframe tbody tr th:only-of-type {\n",
       "        vertical-align: middle;\n",
       "    }\n",
       "\n",
       "    .dataframe tbody tr th {\n",
       "        vertical-align: top;\n",
       "    }\n",
       "\n",
       "    .dataframe thead th {\n",
       "        text-align: right;\n",
       "    }\n",
       "</style>\n",
       "<table border=\"1\" class=\"dataframe\">\n",
       "  <thead>\n",
       "    <tr style=\"text-align: right;\">\n",
       "      <th></th>\n",
       "      <th>Cars</th>\n",
       "      <th>Lanch Year</th>\n",
       "      <th>Price</th>\n",
       "      <th>Fuel Tank</th>\n",
       "      <th>Tyre</th>\n",
       "    </tr>\n",
       "  </thead>\n",
       "  <tbody>\n",
       "    <tr>\n",
       "      <th>count</th>\n",
       "      <td>10</td>\n",
       "      <td>10</td>\n",
       "      <td>10</td>\n",
       "      <td>10</td>\n",
       "      <td>9</td>\n",
       "    </tr>\n",
       "    <tr>\n",
       "      <th>unique</th>\n",
       "      <td>10</td>\n",
       "      <td>9</td>\n",
       "      <td>10</td>\n",
       "      <td>3</td>\n",
       "      <td>4</td>\n",
       "    </tr>\n",
       "    <tr>\n",
       "      <th>top</th>\n",
       "      <td>i10</td>\n",
       "      <td>2011</td>\n",
       "      <td>8.51</td>\n",
       "      <td>Diesel</td>\n",
       "      <td>MRF</td>\n",
       "    </tr>\n",
       "    <tr>\n",
       "      <th>freq</th>\n",
       "      <td>1</td>\n",
       "      <td>2</td>\n",
       "      <td>1</td>\n",
       "      <td>5</td>\n",
       "      <td>4</td>\n",
       "    </tr>\n",
       "  </tbody>\n",
       "</table>\n",
       "</div>"
      ],
      "text/plain": [
       "       Cars Lanch Year Price Fuel Tank Tyre\n",
       "count    10         10    10        10    9\n",
       "unique   10          9    10         3    4\n",
       "top     i10       2011  8.51    Diesel  MRF\n",
       "freq      1          2     1         5    4"
      ]
     },
     "execution_count": 7,
     "metadata": {},
     "output_type": "execute_result"
    }
   ],
   "source": [
    "df.describe()"
   ]
  },
  {
   "cell_type": "markdown",
   "id": "d5f4e61a",
   "metadata": {},
   "source": [
    "### Task-4"
   ]
  },
  {
   "cell_type": "code",
   "execution_count": 8,
   "id": "d84bc79f",
   "metadata": {},
   "outputs": [
    {
     "data": {
      "text/plain": [
       "Cars           Verna\n",
       "Lanch Year      2012\n",
       "Price             12\n",
       "Fuel Tank     Diesel\n",
       "Tyre            Ceat\n",
       "Name: 4, dtype: object"
      ]
     },
     "execution_count": 8,
     "metadata": {},
     "output_type": "execute_result"
    }
   ],
   "source": [
    "df.iloc[4,0:]"
   ]
  },
  {
   "cell_type": "markdown",
   "id": "33890961",
   "metadata": {},
   "source": [
    "### Task-5"
   ]
  },
  {
   "cell_type": "code",
   "execution_count": 9,
   "id": "83a60e42",
   "metadata": {},
   "outputs": [
    {
     "data": {
      "text/plain": [
       "Cars          False\n",
       "Lanch Year    False\n",
       "Price         False\n",
       "Fuel Tank     False\n",
       "Tyre           True\n",
       "dtype: bool"
      ]
     },
     "execution_count": 9,
     "metadata": {},
     "output_type": "execute_result"
    }
   ],
   "source": [
    "df.isnull().any()"
   ]
  },
  {
   "cell_type": "code",
   "execution_count": null,
   "id": "81dbae47",
   "metadata": {},
   "outputs": [],
   "source": []
  },
  {
   "cell_type": "code",
   "execution_count": null,
   "id": "1f19f5d6",
   "metadata": {},
   "outputs": [],
   "source": []
  },
  {
   "cell_type": "code",
   "execution_count": null,
   "id": "c2e248d3",
   "metadata": {},
   "outputs": [],
   "source": []
  }
 ],
 "metadata": {
  "kernelspec": {
   "display_name": "Python 3 (ipykernel)",
   "language": "python",
   "name": "python3"
  },
  "language_info": {
   "codemirror_mode": {
    "name": "ipython",
    "version": 3
   },
   "file_extension": ".py",
   "mimetype": "text/x-python",
   "name": "python",
   "nbconvert_exporter": "python",
   "pygments_lexer": "ipython3",
   "version": "3.11.4"
  }
 },
 "nbformat": 4,
 "nbformat_minor": 5
}
